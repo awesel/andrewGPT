{
 "cells": [
  {
   "cell_type": "code",
   "execution_count": 1,
   "metadata": {},
   "outputs": [],
   "source": [
    "import pandas as pd"
   ]
  },
  {
   "cell_type": "code",
   "execution_count": 7,
   "metadata": {},
   "outputs": [],
   "source": [
    "import csv\n",
    "\n",
    "with open('andrew_messages.csv', 'r') as csv_file, open('me.txt', 'w') as me_file, open('others.txt', 'w') as others_file:\n",
    "    csv_reader = csv.DictReader(csv_file)\n",
    "\n",
    "    for row in csv_reader:\n",
    "        if row['is_sent'] == '1' and int(row['year']) > 2020:\n",
    "            me_file.write(row['text'] + '\\n')\n",
    "        else:\n",
    "            others_file.write(row['text'] + '\\n')\n"
   ]
  },
  {
   "cell_type": "code",
   "execution_count": 8,
   "metadata": {},
   "outputs": [],
   "source": [
    "def remove_line_breaks(input_file, output_file):\n",
    "    # Read in the input file\n",
    "    with open(input_file, 'r') as file:\n",
    "        input_text = file.read()\n",
    "\n",
    "    # Remove all line breaks from the input text\n",
    "    output_text = input_text.replace('\\n', ' ')\n",
    "\n",
    "    # Write the output text to the output file\n",
    "    with open(output_file, 'w') as file:\n",
    "        file.write(output_text)\n"
   ]
  },
  {
   "cell_type": "code",
   "execution_count": 9,
   "metadata": {},
   "outputs": [],
   "source": [
    "remove_line_breaks('me.txt', 'me.txt')\n"
   ]
  }
 ],
 "metadata": {
  "kernelspec": {
   "display_name": "Python 3 (ipykernel)",
   "language": "python",
   "name": "python3"
  },
  "language_info": {
   "codemirror_mode": {
    "name": "ipython",
    "version": 3
   },
   "file_extension": ".py",
   "mimetype": "text/x-python",
   "name": "python",
   "nbconvert_exporter": "python",
   "pygments_lexer": "ipython3",
   "version": "3.9.13"
  },
  "orig_nbformat": 4
 },
 "nbformat": 4,
 "nbformat_minor": 2
}
